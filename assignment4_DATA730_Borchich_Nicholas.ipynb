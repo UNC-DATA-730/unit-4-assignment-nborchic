{
 "cells": [
  {
   "cell_type": "markdown",
   "id": "df0d234f-1e1a-4495-8208-e177e7f527aa",
   "metadata": {},
   "source": [
    "Complete the exercises below For **Assignment #4**.\n",
    "\n",
    "Use **Markdown** cells for the non-code answers."
   ]
  },
  {
   "cell_type": "markdown",
   "id": "67f720a0-2ead-44f5-bc11-8cbefda7b7d4",
   "metadata": {},
   "source": [
    "In this assignment we will work with the data underlying the *FiveThirtyEight* article [\"Higher Rates Of Hate Crimes Are Tied To Income Inequality\"](https://fivethirtyeight.com/features/higher-rates-of-hate-crimes-are-tied-to-income-inequality/)."
   ]
  },
  {
   "cell_type": "markdown",
   "id": "da3788bf-60c0-4b04-a09e-29bb08002d83",
   "metadata": {},
   "source": [
    "Load the `tidymodels`, `readr`, and `moderndive` packages in the cell below."
   ]
  },
  {
   "cell_type": "code",
   "execution_count": 16,
   "id": "c363d814-19a6-4173-899e-c54ada1860d2",
   "metadata": {},
   "outputs": [
    {
     "name": "stderr",
     "output_type": "stream",
     "text": [
      "── \u001b[1mAttaching packages\u001b[22m ────────────────────────────────────── tidymodels 1.3.0 ──\n",
      "\n",
      "\u001b[32m✔\u001b[39m \u001b[34mbroom       \u001b[39m 1.0.9     \u001b[32m✔\u001b[39m \u001b[34mrsample     \u001b[39m 1.3.1\n",
      "\u001b[32m✔\u001b[39m \u001b[34mdials       \u001b[39m 1.4.1     \u001b[32m✔\u001b[39m \u001b[34mtune        \u001b[39m 1.3.0\n",
      "\u001b[32m✔\u001b[39m \u001b[34minfer       \u001b[39m 1.0.9     \u001b[32m✔\u001b[39m \u001b[34mworkflows   \u001b[39m 1.3.0\n",
      "\u001b[32m✔\u001b[39m \u001b[34mmodeldata   \u001b[39m 1.5.1     \u001b[32m✔\u001b[39m \u001b[34mworkflowsets\u001b[39m 1.1.1\n",
      "\u001b[32m✔\u001b[39m \u001b[34mparsnip     \u001b[39m 1.3.3     \u001b[32m✔\u001b[39m \u001b[34myardstick   \u001b[39m 1.3.2\n",
      "\n",
      "── \u001b[1mConflicts\u001b[22m ───────────────────────────────────────── tidymodels_conflicts() ──\n",
      "\u001b[31m✖\u001b[39m \u001b[34mscales\u001b[39m::\u001b[32mdiscard()\u001b[39m masks \u001b[34mpurrr\u001b[39m::discard()\n",
      "\u001b[31m✖\u001b[39m \u001b[34mdplyr\u001b[39m::\u001b[32mfilter()\u001b[39m   masks \u001b[34mstats\u001b[39m::filter()\n",
      "\u001b[31m✖\u001b[39m \u001b[34mrecipes\u001b[39m::\u001b[32mfixed()\u001b[39m  masks \u001b[34mstringr\u001b[39m::fixed()\n",
      "\u001b[31m✖\u001b[39m \u001b[34mdplyr\u001b[39m::\u001b[32mlag()\u001b[39m      masks \u001b[34mstats\u001b[39m::lag()\n",
      "\u001b[31m✖\u001b[39m \u001b[34myardstick\u001b[39m::\u001b[32mspec()\u001b[39m masks \u001b[34mreadr\u001b[39m::spec()\n",
      "\u001b[31m✖\u001b[39m \u001b[34mrecipes\u001b[39m::\u001b[32mstep()\u001b[39m   masks \u001b[34mstats\u001b[39m::step()\n",
      "\n"
     ]
    }
   ],
   "source": [
    "library('tidyverse')\n",
    "library('readr')\n",
    "library('moderndive')\n",
    "library('recipes')\n",
    "library('tidymodels')"
   ]
  },
  {
   "cell_type": "markdown",
   "id": "c4064cbe-78bd-4549-8543-fd91ed775e6e",
   "metadata": {},
   "source": [
    "We can read the data from a **CSV file** at the following URL: [http://bit.ly/2ItxYg3](http://bit.ly/2ItxYg3).\n",
    "\n",
    "Use the `read_csv` function to read the data into our R session. Call the new table `hate_crimes`."
   ]
  },
  {
   "cell_type": "code",
   "execution_count": 5,
   "id": "94ce1201-dd72-4109-9a64-333b7286aac7",
   "metadata": {},
   "outputs": [
    {
     "data": {
      "text/plain": [
       "    state           median_house_inc   share_pop_metro        hs       \n",
       " Length:51          Length:51          Min.   :0.3100   Min.   :80.00  \n",
       " Class :character   Class :character   1st Qu.:0.6300   1st Qu.:84.00  \n",
       " Mode  :character   Mode  :character   Median :0.7900   Median :87.00  \n",
       "                                       Mean   :0.7502   Mean   :86.79  \n",
       "                                       3rd Qu.:0.8950   3rd Qu.:90.00  \n",
       "                                       Max.   :1.0000   Max.   :92.00  \n",
       "                                                        NA's   :3      \n",
       "  hate_crimes     trump_support      unemployment       urbanization      \n",
       " Min.   :0.0670   Length:51          Length:51          Length:51         \n",
       " 1st Qu.:0.1430   Class :character   Class :character   Class :character  \n",
       " Median :0.2260   Mode  :character   Mode  :character   Mode  :character  \n",
       " Mean   :0.3041                                                           \n",
       " 3rd Qu.:0.3570                                                           \n",
       " Max.   :1.5220                                                           \n",
       " NA's   :4                                                                \n",
       "     income     \n",
       " Min.   :35521  \n",
       " 1st Qu.:48657  \n",
       " Median :54916  \n",
       " Mean   :55224  \n",
       " 3rd Qu.:60719  \n",
       " Max.   :76165  \n",
       "                "
      ]
     },
     "metadata": {},
     "output_type": "display_data"
    }
   ],
   "source": [
    "hate_crimes <- read.csv(\"http://bit.ly/2ItxYg3\")\n",
    "\n",
    "summary(hate_crimes)\n"
   ]
  },
  {
   "cell_type": "markdown",
   "id": "f4806491-e256-4823-aa63-612157c25966",
   "metadata": {},
   "source": [
    "Next, let’s add the high-school degree variable into the mix by creating a scatterplot showing:\n",
    "\n",
    "- Income on the y-axis (this is the `income` variable)\n",
    "- Percent of adults 25 or older with a high school degree on the x-axis (this is the `hs` variable)\n",
    "- The points colored by level of urbanization in a region (this is the variable `urbanization`)\n",
    "\n",
    "\n",
    "**In addition, add a line of best fit (regression line) for each level of the variable urbanization (one for “low”, one for “high”).**\n",
    "\n",
    "*Add the regression lines to the plot using the `geom_parallel_slopes` function from the `moderndive` package. This function will draw the regression lines based on fitting a regression model with parallel slopes (i.e., with no interaction between `hs` and `urbanization`).*"
   ]
  },
  {
   "cell_type": "code",
   "execution_count": 11,
   "id": "0df52489-dc41-4d74-ba64-a93f1d5c7ae1",
   "metadata": {},
   "outputs": [
    {
     "name": "stderr",
     "output_type": "stream",
     "text": [
      "Warning message:\n",
      "“\u001b[1m\u001b[22mRemoved 3 rows containing non-finite outside the scale range\n",
      "(`stat_parallel_slopes()`).”\n",
      "Warning message:\n",
      "“\u001b[1m\u001b[22mRemoved 3 rows containing missing values or values outside the scale range\n",
      "(`geom_point()`).”\n"
     ]
    },
    {
     "data": {
      "image/png": "[encoded data removed]",
      "text/plain": [
       "plot without title"
      ]
     },
     "metadata": {
      "image/png": {
       "height": 420,
       "width": 420
      }
     },
     "output_type": "display_data"
    }
   ],
   "source": [
    "p = ggplot(hate_crimes, aes(x = hs, y = income, color = urbanization)) + geom_point() + geom_parallel_slopes()\n",
    "\n",
    "p\n"
   ]
  },
  {
   "cell_type": "markdown",
   "id": "6e532f1d-fa73-402b-96e0-f104a4c02791",
   "metadata": {},
   "source": [
    "❓Which regression line (high urbanization or low urbanization) appears to have the larger intercept?\n",
    "\n",
    "**Answer:**"
   ]
  },
  {
   "cell_type": "markdown",
   "id": "c69dce05-e719-47c5-bd7b-47f8481710cf",
   "metadata": {},
   "source": [
    "High Urbanization appears to have the larger intercept."
   ]
  },
  {
   "cell_type": "markdown",
   "id": "e8c51941-740b-4bba-975f-12083a90dda0",
   "metadata": {},
   "source": [
    "Now let’s create a second scatterplot using the same variables, but this time draw the regression lines using `geom_smooth(method = \"lm\")`, which will allow for separate, non-parallel slopes for each urbanization group. \n",
    "\n",
    "**Code your scatter plot in the cell below.**"
   ]
  },
  {
   "cell_type": "code",
   "execution_count": 9,
   "id": "fbdf3299-5151-4963-addb-6089506a9b1d",
   "metadata": {},
   "outputs": [
    {
     "name": "stderr",
     "output_type": "stream",
     "text": [
      "\u001b[1m\u001b[22m`geom_smooth()` using formula = 'y ~ x'\n",
      "Warning message:\n",
      "“\u001b[1m\u001b[22mRemoved 3 rows containing non-finite outside the scale range (`stat_smooth()`).”\n",
      "Warning message:\n",
      "“\u001b[1m\u001b[22mRemoved 3 rows containing missing values or values outside the scale range\n",
      "(`geom_point()`).”\n"
     ]
    },
    {
     "data": {
      "image/png": "[encoded data removed]",
      "text/plain": [
       "plot without title"
      ]
     },
     "metadata": {
      "image/png": {
       "height": 420,
       "width": 420
      }
     },
     "output_type": "display_data"
    }
   ],
   "source": [
    "p = ggplot(hate_crimes, aes(x = hs, y = income, color = urbanization)) + geom_point() + geom_smooth(method = 'lm')\n",
    "\n",
    "p\n"
   ]
  },
  {
   "cell_type": "markdown",
   "id": "1a8b4ef0-c250-4f50-8354-75075608b95c",
   "metadata": {},
   "source": [
    "❓Based on visually comparing the two models shown above, do you think it would be best to run a “parallel slopes” model (i.e. a model that estimates one shared slope for the two levels of urbanization), or a more complex “interaction model” (i.e. a model that estimates a separate slope for the two levels of urbanization)?\n",
    "\n",
    "**Answer:**"
   ]
  },
  {
   "cell_type": "markdown",
   "id": "576abdba-fd3f-4d46-9ddc-3b66d6b9457a",
   "metadata": {},
   "source": [
    "An interaction model would be interesting and potentially worth looking into, but given the near complete lack of overlap beteen the confidence intervals of these two lines and the generally parallel nature of them, I think it is probably unneccessary.\n"
   ]
  },
  {
   "cell_type": "markdown",
   "id": "58b774c5-d4d1-4473-be77-4a1271fa4ca2",
   "metadata": {},
   "source": [
    "Fit the following two regression models that examine the relationship between household `income` (as response variable), and high-school education (`hs`) and `urbanization` as explanatory variables:\n",
    "\n",
    "1. A parallel slopes model (i.e., no interaction between `hs` and `urbanization`). ❗️Save the data recipe and model under the variables `ps_rec` and `ps_mod`, respectively. \n",
    "1. A non-parallel slopes model (i.e., allow `hs` and `urbanization` to interact in your model). ❗️Save the data recipe and model under the variable: `nps_rec` and `nps_mod`, respectively.\n",
    "\n",
    "**Code you your models in the cell below.**"
   ]
  },
  {
   "cell_type": "code",
   "execution_count": 17,
   "id": "30523b47-a9af-4462-9c47-8bab30e76cc6",
   "metadata": {},
   "outputs": [
    {
     "data": {
      "text/plain": [
       "parsnip model object\n",
       "\n",
       "\n",
       "Call:\n",
       "stats::lm(formula = income ~ ., data = data)\n",
       "\n",
       "Coefficients:\n",
       "     (Intercept)                hs  urbanization_low  \n",
       "         -113725              1987             -7333  \n"
      ]
     },
     "metadata": {},
     "output_type": "display_data"
    }
   ],
   "source": [
    "# parallel slopes model\n",
    "\n",
    "ps_rec = recipe(income ~ hs + urbanization, data = hate_crimes) |> \n",
    "    step_naomit(everything()) |>   # remove missing values\n",
    "    step_dummy(urbanization) |>    # dummy encode the urbanization variable\n",
    "    prep()                         # run the recipe on the training data provided\n",
    "\n",
    "mod = linear_reg() |> set_engine('lm')\n",
    "\n",
    "ps_mod = mod |> fit(income ~ ., juice(ps_rec))\n",
    "\n",
    "ps_mod"
   ]
  },
  {
   "cell_type": "code",
   "execution_count": 20,
   "id": "5f00c972-f677-4315-8ef8-a85c6e18be95",
   "metadata": {},
   "outputs": [
    {
     "data": {
      "text/plain": [
       "parsnip model object\n",
       "\n",
       "\n",
       "Call:\n",
       "stats::lm(formula = income ~ ., data = data)\n",
       "\n",
       "Coefficients:\n",
       "          (Intercept)                     hs       urbanization_low  \n",
       "               -95647                   1777                 -35394  \n",
       "urbanization_low_x_hs  \n",
       "                  324  \n"
      ]
     },
     "metadata": {},
     "output_type": "display_data"
    }
   ],
   "source": [
    "# non-parallel slopes model\n",
    "\n",
    "nps_rec = recipe(income ~ hs + urbanization, data = hate_crimes) |> \n",
    "    step_naomit(everything()) |>   # remove missing values\n",
    "    step_dummy(urbanization) |>    # dummy encode the urbanization variable\n",
    "    step_interact(~ starts_with(\"urbanization\"):hs) |>\n",
    "    prep()                         # run the recipe on the training data provided\n",
    "\n",
    "mod = linear_reg() |> set_engine('lm')\n",
    "\n",
    "nps_mod = mod |> fit(income ~ ., juice(nps_rec))\n",
    "\n",
    "nps_mod\n",
    "\n",
    "# ❗️ you can use most of the code above, just add step_interact(~ starts_with(\"urbanization\"):hs) to the recipe and\n",
    "#    switch the variable names...\n",
    "\n",
    "\n",
    "\n"
   ]
  },
  {
   "cell_type": "markdown",
   "id": "868f615c-c5b3-4246-8460-1cd85c06c43a",
   "metadata": {},
   "source": [
    "The following code creates a table of your model predictions over the training data. Calculate the [coefficient of determination](https://en.wikipedia.org/wiki/Coefficient_of_determination) (R<sup>2</sup>) for each model:\n",
    "\n",
    "```r\n",
    "rbind(\n",
    "    augment(ps_mod, juice(ps_rec)) |> select(income, .pred, .resid) |> mutate(model = \"parallel_slopes\"),\n",
    "    augment(nps_mod, juice(nps_rec)) |> select(income, .pred, .resid) |> mutate(model = \"interaction\")\n",
    ")\n",
    "```\n",
    "\n",
    "1. Group rows by the `model` variable (use the `group_by` function).\n",
    "1. Calculate the variance of income over the variance of your predictions for each model using the \"grouped\" data from the step above (use `summarize(r_squared = var(.pred) / var(income))`)."
   ]
  },
  {
   "cell_type": "code",
   "execution_count": 26,
   "id": "962ac82c-48a1-424e-90a7-f6fdc71d52fb",
   "metadata": {},
   "outputs": [
    {
     "data": {
      "text/html": [
       "<table class=\"dataframe\">\n",
       "<caption>A tibble: 96 × 4</caption>\n",
       "<thead>\n",
       "\t<tr><th scope=col>income</th><th scope=col>.pred</th><th scope=col>.resid</th><th scope=col>model</th></tr>\n",
       "\t<tr><th scope=col>&lt;int&gt;</th><th scope=col>&lt;dbl&gt;</th><th scope=col>&lt;dbl&gt;</th><th scope=col>&lt;chr&gt;</th></tr>\n",
       "</thead>\n",
       "<tbody>\n",
       "\t<tr><td>46686</td><td>43845.37</td><td> 2840.63106</td><td>parallel_slopes</td></tr>\n",
       "\t<tr><td>51710</td><td>57752.93</td><td>-6042.92572</td><td>parallel_slopes</td></tr>\n",
       "\t<tr><td>54310</td><td>55152.28</td><td> -842.28220</td><td>parallel_slopes</td></tr>\n",
       "\t<tr><td>54916</td><td>57139.08</td><td>-2223.07603</td><td>parallel_slopes</td></tr>\n",
       "\t<tr><td>57522</td><td>59125.87</td><td>-1603.86985</td><td>parallel_slopes</td></tr>\n",
       "\t<tr><td>58633</td><td>55152.28</td><td> 3480.71780</td><td>parallel_slopes</td></tr>\n",
       "\t<tr><td>58875</td><td>63099.46</td><td>-4224.45751</td><td>parallel_slopes</td></tr>\n",
       "\t<tr><td>59068</td><td>65086.25</td><td>-6018.25133</td><td>parallel_slopes</td></tr>\n",
       "\t<tr><td>60487</td><td>47205.11</td><td>13281.89310</td><td>parallel_slopes</td></tr>\n",
       "\t<tr><td>60708</td><td>59739.72</td><td>  968.28046</td><td>parallel_slopes</td></tr>\n",
       "\t<tr><td>60940</td><td>63099.46</td><td>-2159.45751</td><td>parallel_slopes</td></tr>\n",
       "\t<tr><td>63151</td><td>63099.46</td><td>   51.54249</td><td>parallel_slopes</td></tr>\n",
       "\t<tr><td>65243</td><td>59125.87</td><td> 6117.13015</td><td>parallel_slopes</td></tr>\n",
       "\t<tr><td>66155</td><td>59125.87</td><td> 7029.13015</td><td>parallel_slopes</td></tr>\n",
       "\t<tr><td>67244</td><td>61726.51</td><td> 5517.48663</td><td>parallel_slopes</td></tr>\n",
       "\t<tr><td>68277</td><td>59125.87</td><td> 9151.13015</td><td>parallel_slopes</td></tr>\n",
       "\t<tr><td>70161</td><td>63099.46</td><td> 7061.54249</td><td>parallel_slopes</td></tr>\n",
       "\t<tr><td>71223</td><td>57752.93</td><td>13470.07428</td><td>parallel_slopes</td></tr>\n",
       "\t<tr><td>76165</td><td>63099.46</td><td>13065.54249</td><td>parallel_slopes</td></tr>\n",
       "\t<tr><td>44929</td><td>45832.16</td><td> -903.16276</td><td>parallel_slopes</td></tr>\n",
       "\t<tr><td>46140</td><td>55152.28</td><td>-9012.28220</td><td>parallel_slopes</td></tr>\n",
       "\t<tr><td>46784</td><td>45832.16</td><td>  951.83724</td><td>parallel_slopes</td></tr>\n",
       "\t<tr><td>49254</td><td>53165.49</td><td>-3911.48838</td><td>parallel_slopes</td></tr>\n",
       "\t<tr><td>49555</td><td>53165.49</td><td>-3610.48838</td><td>parallel_slopes</td></tr>\n",
       "\t<tr><td>49644</td><td>53779.34</td><td>-4135.33806</td><td>parallel_slopes</td></tr>\n",
       "\t<tr><td>49875</td><td>53165.49</td><td>-3290.48838</td><td>parallel_slopes</td></tr>\n",
       "\t<tr><td>52005</td><td>61112.66</td><td>-9107.66368</td><td>parallel_slopes</td></tr>\n",
       "\t<tr><td>53875</td><td>45218.31</td><td> 8656.68692</td><td>parallel_slopes</td></tr>\n",
       "\t<tr><td>55173</td><td>61112.66</td><td>-5939.66368</td><td>parallel_slopes</td></tr>\n",
       "\t<tr><td>57810</td><td>59739.72</td><td>-1929.71954</td><td>parallel_slopes</td></tr>\n",
       "\t<tr><td>⋮</td><td>⋮</td><td>⋮</td><td>⋮</td></tr>\n",
       "\t<tr><td>76165</td><td>62505.02</td><td>13659.97579</td><td>interaction</td></tr>\n",
       "\t<tr><td>44929</td><td>45441.98</td><td> -512.98371</td><td>interaction</td></tr>\n",
       "\t<tr><td>46140</td><td>55397.05</td><td>-9257.04886</td><td>interaction</td></tr>\n",
       "\t<tr><td>46784</td><td>45441.98</td><td> 1342.01629</td><td>interaction</td></tr>\n",
       "\t<tr><td>49254</td><td>53620.06</td><td>-4366.05502</td><td>interaction</td></tr>\n",
       "\t<tr><td>49555</td><td>53620.06</td><td>-4065.05502</td><td>interaction</td></tr>\n",
       "\t<tr><td>49644</td><td>53845.95</td><td>-4201.95400</td><td>interaction</td></tr>\n",
       "\t<tr><td>49875</td><td>53620.06</td><td>-3745.05502</td><td>interaction</td></tr>\n",
       "\t<tr><td>52005</td><td>60728.03</td><td>-8723.03037</td><td>interaction</td></tr>\n",
       "\t<tr><td>53875</td><td>46512.08</td><td> 7362.92033</td><td>interaction</td></tr>\n",
       "\t<tr><td>55173</td><td>60728.03</td><td>-5555.03037</td><td>interaction</td></tr>\n",
       "\t<tr><td>57810</td><td>60148.93</td><td>-2338.93172</td><td>interaction</td></tr>\n",
       "\t<tr><td>58080</td><td>58047.94</td><td>   32.06085</td><td>interaction</td></tr>\n",
       "\t<tr><td>63383</td><td>64282.02</td><td> -899.01805</td><td>interaction</td></tr>\n",
       "\t<tr><td>67629</td><td>60148.93</td><td> 7480.06828</td><td>interaction</td></tr>\n",
       "\t<tr><td>73397</td><td>60148.93</td><td>13248.06828</td><td>interaction</td></tr>\n",
       "\t<tr><td>35521</td><td>37038.01</td><td>-1517.01342</td><td>interaction</td></tr>\n",
       "\t<tr><td>39552</td><td>43340.99</td><td>-3788.99114</td><td>interaction</td></tr>\n",
       "\t<tr><td>42278</td><td>41240.00</td><td> 1038.00144</td><td>interaction</td></tr>\n",
       "\t<tr><td>42406</td><td>50066.07</td><td>-7660.06734</td><td>interaction</td></tr>\n",
       "\t<tr><td>42786</td><td>41240.00</td><td> 1546.00144</td><td>interaction</td></tr>\n",
       "\t<tr><td>43716</td><td>51843.06</td><td>-8127.06118</td><td>interaction</td></tr>\n",
       "\t<tr><td>44922</td><td>41240.00</td><td> 3682.00144</td><td>interaction</td></tr>\n",
       "\t<tr><td>47199</td><td>49643.97</td><td>-2444.96885</td><td>interaction</td></tr>\n",
       "\t<tr><td>48060</td><td>51744.96</td><td>-3684.96143</td><td>interaction</td></tr>\n",
       "\t<tr><td>51102</td><td>60148.93</td><td>-9046.93172</td><td>interaction</td></tr>\n",
       "\t<tr><td>53053</td><td>58047.94</td><td>-4994.93915</td><td>interaction</td></tr>\n",
       "\t<tr><td>53438</td><td>53845.95</td><td> -407.95400</td><td>interaction</td></tr>\n",
       "\t<tr><td>53444</td><td>58047.94</td><td>-4603.93915</td><td>interaction</td></tr>\n",
       "\t<tr><td>55690</td><td>62249.92</td><td>-6559.92429</td><td>interaction</td></tr>\n",
       "</tbody>\n",
       "</table>\n"
      ],
      "text/latex": [
       "A tibble: 96 × 4\n",
       "\\begin{tabular}{llll}\n",
       " income & .pred & .resid & model\\\\\n",
       " <int> & <dbl> & <dbl> & <chr>\\\\\n",
       "\\hline\n",
       "\t 46686 & 43845.37 &  2840.63106 & parallel\\_slopes\\\\\n",
       "\t 51710 & 57752.93 & -6042.92572 & parallel\\_slopes\\\\\n",
       "\t 54310 & 55152.28 &  -842.28220 & parallel\\_slopes\\\\\n",
       "\t 54916 & 57139.08 & -2223.07603 & parallel\\_slopes\\\\\n",
       "\t 57522 & 59125.87 & -1603.86985 & parallel\\_slopes\\\\\n",
       "\t 58633 & 55152.28 &  3480.71780 & parallel\\_slopes\\\\\n",
       "\t 58875 & 63099.46 & -4224.45751 & parallel\\_slopes\\\\\n",
       "\t 59068 & 65086.25 & -6018.25133 & parallel\\_slopes\\\\\n",
       "\t 60487 & 47205.11 & 13281.89310 & parallel\\_slopes\\\\\n",
       "\t 60708 & 59739.72 &   968.28046 & parallel\\_slopes\\\\\n",
       "\t 60940 & 63099.46 & -2159.45751 & parallel\\_slopes\\\\\n",
       "\t 63151 & 63099.46 &    51.54249 & parallel\\_slopes\\\\\n",
       "\t 65243 & 59125.87 &  6117.13015 & parallel\\_slopes\\\\\n",
       "\t 66155 & 59125.87 &  7029.13015 & parallel\\_slopes\\\\\n",
       "\t 67244 & 61726.51 &  5517.48663 & parallel\\_slopes\\\\\n",
       "\t 68277 & 59125.87 &  9151.13015 & parallel\\_slopes\\\\\n",
       "\t 70161 & 63099.46 &  7061.54249 & parallel\\_slopes\\\\\n",
       "\t 71223 & 57752.93 & 13470.07428 & parallel\\_slopes\\\\\n",
       "\t 76165 & 63099.46 & 13065.54249 & parallel\\_slopes\\\\\n",
       "\t 44929 & 45832.16 &  -903.16276 & parallel\\_slopes\\\\\n",
       "\t 46140 & 55152.28 & -9012.28220 & parallel\\_slopes\\\\\n",
       "\t 46784 & 45832.16 &   951.83724 & parallel\\_slopes\\\\\n",
       "\t 49254 & 53165.49 & -3911.48838 & parallel\\_slopes\\\\\n",
       "\t 49555 & 53165.49 & -3610.48838 & parallel\\_slopes\\\\\n",
       "\t 49644 & 53779.34 & -4135.33806 & parallel\\_slopes\\\\\n",
       "\t 49875 & 53165.49 & -3290.48838 & parallel\\_slopes\\\\\n",
       "\t 52005 & 61112.66 & -9107.66368 & parallel\\_slopes\\\\\n",
       "\t 53875 & 45218.31 &  8656.68692 & parallel\\_slopes\\\\\n",
       "\t 55173 & 61112.66 & -5939.66368 & parallel\\_slopes\\\\\n",
       "\t 57810 & 59739.72 & -1929.71954 & parallel\\_slopes\\\\\n",
       "\t ⋮ & ⋮ & ⋮ & ⋮\\\\\n",
       "\t 76165 & 62505.02 & 13659.97579 & interaction\\\\\n",
       "\t 44929 & 45441.98 &  -512.98371 & interaction\\\\\n",
       "\t 46140 & 55397.05 & -9257.04886 & interaction\\\\\n",
       "\t 46784 & 45441.98 &  1342.01629 & interaction\\\\\n",
       "\t 49254 & 53620.06 & -4366.05502 & interaction\\\\\n",
       "\t 49555 & 53620.06 & -4065.05502 & interaction\\\\\n",
       "\t 49644 & 53845.95 & -4201.95400 & interaction\\\\\n",
       "\t 49875 & 53620.06 & -3745.05502 & interaction\\\\\n",
       "\t 52005 & 60728.03 & -8723.03037 & interaction\\\\\n",
       "\t 53875 & 46512.08 &  7362.92033 & interaction\\\\\n",
       "\t 55173 & 60728.03 & -5555.03037 & interaction\\\\\n",
       "\t 57810 & 60148.93 & -2338.93172 & interaction\\\\\n",
       "\t 58080 & 58047.94 &    32.06085 & interaction\\\\\n",
       "\t 63383 & 64282.02 &  -899.01805 & interaction\\\\\n",
       "\t 67629 & 60148.93 &  7480.06828 & interaction\\\\\n",
       "\t 73397 & 60148.93 & 13248.06828 & interaction\\\\\n",
       "\t 35521 & 37038.01 & -1517.01342 & interaction\\\\\n",
       "\t 39552 & 43340.99 & -3788.99114 & interaction\\\\\n",
       "\t 42278 & 41240.00 &  1038.00144 & interaction\\\\\n",
       "\t 42406 & 50066.07 & -7660.06734 & interaction\\\\\n",
       "\t 42786 & 41240.00 &  1546.00144 & interaction\\\\\n",
       "\t 43716 & 51843.06 & -8127.06118 & interaction\\\\\n",
       "\t 44922 & 41240.00 &  3682.00144 & interaction\\\\\n",
       "\t 47199 & 49643.97 & -2444.96885 & interaction\\\\\n",
       "\t 48060 & 51744.96 & -3684.96143 & interaction\\\\\n",
       "\t 51102 & 60148.93 & -9046.93172 & interaction\\\\\n",
       "\t 53053 & 58047.94 & -4994.93915 & interaction\\\\\n",
       "\t 53438 & 53845.95 &  -407.95400 & interaction\\\\\n",
       "\t 53444 & 58047.94 & -4603.93915 & interaction\\\\\n",
       "\t 55690 & 62249.92 & -6559.92429 & interaction\\\\\n",
       "\\end{tabular}\n"
      ],
      "text/markdown": [
       "\n",
       "A tibble: 96 × 4\n",
       "\n",
       "| income &lt;int&gt; | .pred &lt;dbl&gt; | .resid &lt;dbl&gt; | model &lt;chr&gt; |\n",
       "|---|---|---|---|\n",
       "| 46686 | 43845.37 |  2840.63106 | parallel_slopes |\n",
       "| 51710 | 57752.93 | -6042.92572 | parallel_slopes |\n",
       "| 54310 | 55152.28 |  -842.28220 | parallel_slopes |\n",
       "| 54916 | 57139.08 | -2223.07603 | parallel_slopes |\n",
       "| 57522 | 59125.87 | -1603.86985 | parallel_slopes |\n",
       "| 58633 | 55152.28 |  3480.71780 | parallel_slopes |\n",
       "| 58875 | 63099.46 | -4224.45751 | parallel_slopes |\n",
       "| 59068 | 65086.25 | -6018.25133 | parallel_slopes |\n",
       "| 60487 | 47205.11 | 13281.89310 | parallel_slopes |\n",
       "| 60708 | 59739.72 |   968.28046 | parallel_slopes |\n",
       "| 60940 | 63099.46 | -2159.45751 | parallel_slopes |\n",
       "| 63151 | 63099.46 |    51.54249 | parallel_slopes |\n",
       "| 65243 | 59125.87 |  6117.13015 | parallel_slopes |\n",
       "| 66155 | 59125.87 |  7029.13015 | parallel_slopes |\n",
       "| 67244 | 61726.51 |  5517.48663 | parallel_slopes |\n",
       "| 68277 | 59125.87 |  9151.13015 | parallel_slopes |\n",
       "| 70161 | 63099.46 |  7061.54249 | parallel_slopes |\n",
       "| 71223 | 57752.93 | 13470.07428 | parallel_slopes |\n",
       "| 76165 | 63099.46 | 13065.54249 | parallel_slopes |\n",
       "| 44929 | 45832.16 |  -903.16276 | parallel_slopes |\n",
       "| 46140 | 55152.28 | -9012.28220 | parallel_slopes |\n",
       "| 46784 | 45832.16 |   951.83724 | parallel_slopes |\n",
       "| 49254 | 53165.49 | -3911.48838 | parallel_slopes |\n",
       "| 49555 | 53165.49 | -3610.48838 | parallel_slopes |\n",
       "| 49644 | 53779.34 | -4135.33806 | parallel_slopes |\n",
       "| 49875 | 53165.49 | -3290.48838 | parallel_slopes |\n",
       "| 52005 | 61112.66 | -9107.66368 | parallel_slopes |\n",
       "| 53875 | 45218.31 |  8656.68692 | parallel_slopes |\n",
       "| 55173 | 61112.66 | -5939.66368 | parallel_slopes |\n",
       "| 57810 | 59739.72 | -1929.71954 | parallel_slopes |\n",
       "| ⋮ | ⋮ | ⋮ | ⋮ |\n",
       "| 76165 | 62505.02 | 13659.97579 | interaction |\n",
       "| 44929 | 45441.98 |  -512.98371 | interaction |\n",
       "| 46140 | 55397.05 | -9257.04886 | interaction |\n",
       "| 46784 | 45441.98 |  1342.01629 | interaction |\n",
       "| 49254 | 53620.06 | -4366.05502 | interaction |\n",
       "| 49555 | 53620.06 | -4065.05502 | interaction |\n",
       "| 49644 | 53845.95 | -4201.95400 | interaction |\n",
       "| 49875 | 53620.06 | -3745.05502 | interaction |\n",
       "| 52005 | 60728.03 | -8723.03037 | interaction |\n",
       "| 53875 | 46512.08 |  7362.92033 | interaction |\n",
       "| 55173 | 60728.03 | -5555.03037 | interaction |\n",
       "| 57810 | 60148.93 | -2338.93172 | interaction |\n",
       "| 58080 | 58047.94 |    32.06085 | interaction |\n",
       "| 63383 | 64282.02 |  -899.01805 | interaction |\n",
       "| 67629 | 60148.93 |  7480.06828 | interaction |\n",
       "| 73397 | 60148.93 | 13248.06828 | interaction |\n",
       "| 35521 | 37038.01 | -1517.01342 | interaction |\n",
       "| 39552 | 43340.99 | -3788.99114 | interaction |\n",
       "| 42278 | 41240.00 |  1038.00144 | interaction |\n",
       "| 42406 | 50066.07 | -7660.06734 | interaction |\n",
       "| 42786 | 41240.00 |  1546.00144 | interaction |\n",
       "| 43716 | 51843.06 | -8127.06118 | interaction |\n",
       "| 44922 | 41240.00 |  3682.00144 | interaction |\n",
       "| 47199 | 49643.97 | -2444.96885 | interaction |\n",
       "| 48060 | 51744.96 | -3684.96143 | interaction |\n",
       "| 51102 | 60148.93 | -9046.93172 | interaction |\n",
       "| 53053 | 58047.94 | -4994.93915 | interaction |\n",
       "| 53438 | 53845.95 |  -407.95400 | interaction |\n",
       "| 53444 | 58047.94 | -4603.93915 | interaction |\n",
       "| 55690 | 62249.92 | -6559.92429 | interaction |\n",
       "\n"
      ],
      "text/plain": [
       "   income .pred    .resid      model          \n",
       "1  46686  43845.37  2840.63106 parallel_slopes\n",
       "2  51710  57752.93 -6042.92572 parallel_slopes\n",
       "3  54310  55152.28  -842.28220 parallel_slopes\n",
       "4  54916  57139.08 -2223.07603 parallel_slopes\n",
       "5  57522  59125.87 -1603.86985 parallel_slopes\n",
       "6  58633  55152.28  3480.71780 parallel_slopes\n",
       "7  58875  63099.46 -4224.45751 parallel_slopes\n",
       "8  59068  65086.25 -6018.25133 parallel_slopes\n",
       "9  60487  47205.11 13281.89310 parallel_slopes\n",
       "10 60708  59739.72   968.28046 parallel_slopes\n",
       "11 60940  63099.46 -2159.45751 parallel_slopes\n",
       "12 63151  63099.46    51.54249 parallel_slopes\n",
       "13 65243  59125.87  6117.13015 parallel_slopes\n",
       "14 66155  59125.87  7029.13015 parallel_slopes\n",
       "15 67244  61726.51  5517.48663 parallel_slopes\n",
       "16 68277  59125.87  9151.13015 parallel_slopes\n",
       "17 70161  63099.46  7061.54249 parallel_slopes\n",
       "18 71223  57752.93 13470.07428 parallel_slopes\n",
       "19 76165  63099.46 13065.54249 parallel_slopes\n",
       "20 44929  45832.16  -903.16276 parallel_slopes\n",
       "21 46140  55152.28 -9012.28220 parallel_slopes\n",
       "22 46784  45832.16   951.83724 parallel_slopes\n",
       "23 49254  53165.49 -3911.48838 parallel_slopes\n",
       "24 49555  53165.49 -3610.48838 parallel_slopes\n",
       "25 49644  53779.34 -4135.33806 parallel_slopes\n",
       "26 49875  53165.49 -3290.48838 parallel_slopes\n",
       "27 52005  61112.66 -9107.66368 parallel_slopes\n",
       "28 53875  45218.31  8656.68692 parallel_slopes\n",
       "29 55173  61112.66 -5939.66368 parallel_slopes\n",
       "30 57810  59739.72 -1929.71954 parallel_slopes\n",
       "⋮  ⋮      ⋮        ⋮           ⋮              \n",
       "67 76165  62505.02 13659.97579 interaction    \n",
       "68 44929  45441.98  -512.98371 interaction    \n",
       "69 46140  55397.05 -9257.04886 interaction    \n",
       "70 46784  45441.98  1342.01629 interaction    \n",
       "71 49254  53620.06 -4366.05502 interaction    \n",
       "72 49555  53620.06 -4065.05502 interaction    \n",
       "73 49644  53845.95 -4201.95400 interaction    \n",
       "74 49875  53620.06 -3745.05502 interaction    \n",
       "75 52005  60728.03 -8723.03037 interaction    \n",
       "76 53875  46512.08  7362.92033 interaction    \n",
       "77 55173  60728.03 -5555.03037 interaction    \n",
       "78 57810  60148.93 -2338.93172 interaction    \n",
       "79 58080  58047.94    32.06085 interaction    \n",
       "80 63383  64282.02  -899.01805 interaction    \n",
       "81 67629  60148.93  7480.06828 interaction    \n",
       "82 73397  60148.93 13248.06828 interaction    \n",
       "83 35521  37038.01 -1517.01342 interaction    \n",
       "84 39552  43340.99 -3788.99114 interaction    \n",
       "85 42278  41240.00  1038.00144 interaction    \n",
       "86 42406  50066.07 -7660.06734 interaction    \n",
       "87 42786  41240.00  1546.00144 interaction    \n",
       "88 43716  51843.06 -8127.06118 interaction    \n",
       "89 44922  41240.00  3682.00144 interaction    \n",
       "90 47199  49643.97 -2444.96885 interaction    \n",
       "91 48060  51744.96 -3684.96143 interaction    \n",
       "92 51102  60148.93 -9046.93172 interaction    \n",
       "93 53053  58047.94 -4994.93915 interaction    \n",
       "94 53438  53845.95  -407.95400 interaction    \n",
       "95 53444  58047.94 -4603.93915 interaction    \n",
       "96 55690  62249.92 -6559.92429 interaction    "
      ]
     },
     "metadata": {},
     "output_type": "display_data"
    }
   ],
   "source": [
    "rbind(\n",
    "    augment(ps_mod, juice(ps_rec)) |> select(income, .pred, .resid) |> mutate(model = \"parallel_slopes\"),\n",
    "    augment(nps_mod, juice(nps_rec)) |> select(income, .pred, .resid) |> mutate(model = \"interaction\")\n",
    ")\n",
    "\n"
   ]
  },
  {
   "cell_type": "code",
   "execution_count": 28,
   "id": "f3a60662-88da-45f1-a213-73cc91b880d8",
   "metadata": {},
   "outputs": [
    {
     "data": {
      "text/html": [
       "<table class=\"dataframe\">\n",
       "<caption>A tibble: 2 × 2</caption>\n",
       "<thead>\n",
       "\t<tr><th scope=col>model</th><th scope=col>r2</th></tr>\n",
       "\t<tr><th scope=col>&lt;chr&gt;</th><th scope=col>&lt;dbl&gt;</th></tr>\n",
       "</thead>\n",
       "<tbody>\n",
       "\t<tr><td>interaction    </td><td>0.5746731</td></tr>\n",
       "\t<tr><td>parallel_slopes</td><td>0.5716112</td></tr>\n",
       "</tbody>\n",
       "</table>\n"
      ],
      "text/latex": [
       "A tibble: 2 × 2\n",
       "\\begin{tabular}{ll}\n",
       " model & r2\\\\\n",
       " <chr> & <dbl>\\\\\n",
       "\\hline\n",
       "\t interaction     & 0.5746731\\\\\n",
       "\t parallel\\_slopes & 0.5716112\\\\\n",
       "\\end{tabular}\n"
      ],
      "text/markdown": [
       "\n",
       "A tibble: 2 × 2\n",
       "\n",
       "| model &lt;chr&gt; | r2 &lt;dbl&gt; |\n",
       "|---|---|\n",
       "| interaction     | 0.5746731 |\n",
       "| parallel_slopes | 0.5716112 |\n",
       "\n"
      ],
      "text/plain": [
       "  model           r2       \n",
       "1 interaction     0.5746731\n",
       "2 parallel_slopes 0.5716112"
      ]
     },
     "metadata": {},
     "output_type": "display_data"
    }
   ],
   "source": [
    "library(dplyr)\n",
    "\n",
    "r2_results <- rbind(\n",
    "  augment(ps_mod, juice(ps_rec)) |> \n",
    "    select(income, .pred, .resid) |> \n",
    "    mutate(model = \"parallel_slopes\"),\n",
    "  \n",
    "  augment(nps_mod, juice(nps_rec)) |> \n",
    "    select(income, .pred, .resid) |> \n",
    "    mutate(model = \"interaction\")\n",
    ") |>\n",
    "  group_by(model) |>\n",
    "  summarise(\n",
    "    r2 = 1 - sum((income - .pred)^2) / sum((income - mean(income))^2)\n",
    "  )\n",
    "\n",
    "r2_results\n"
   ]
  },
  {
   "cell_type": "markdown",
   "id": "840b7b72-84b9-4577-ac88-13a82f90f808",
   "metadata": {},
   "source": [
    "🎶 Note: you can also use the `glance` function with a model as input to find the coefficient of determination."
   ]
  },
  {
   "cell_type": "code",
   "execution_count": 33,
   "id": "68c3db16-e926-46d6-8647-4277560d2e25",
   "metadata": {},
   "outputs": [
    {
     "data": {
      "text/html": [
       "<table class=\"dataframe\">\n",
       "<caption>A tibble: 1 × 12</caption>\n",
       "<thead>\n",
       "\t<tr><th scope=col>r.squared</th><th scope=col>adj.r.squared</th><th scope=col>sigma</th><th scope=col>statistic</th><th scope=col>p.value</th><th scope=col>df</th><th scope=col>logLik</th><th scope=col>AIC</th><th scope=col>BIC</th><th scope=col>deviance</th><th scope=col>df.residual</th><th scope=col>nobs</th></tr>\n",
       "\t<tr><th scope=col>&lt;dbl&gt;</th><th scope=col>&lt;dbl&gt;</th><th scope=col>&lt;dbl&gt;</th><th scope=col>&lt;dbl&gt;</th><th scope=col>&lt;dbl&gt;</th><th scope=col>&lt;dbl&gt;</th><th scope=col>&lt;dbl&gt;</th><th scope=col>&lt;dbl&gt;</th><th scope=col>&lt;dbl&gt;</th><th scope=col>&lt;dbl&gt;</th><th scope=col>&lt;int&gt;</th><th scope=col>&lt;int&gt;</th></tr>\n",
       "</thead>\n",
       "<tbody>\n",
       "\t<tr><td>0.5716112</td><td>0.5525717</td><td>6325.667</td><td>30.02238</td><td>5.204241e-09</td><td>2</td><td>-486.6739</td><td>981.3479</td><td>988.8327</td><td>1800633086</td><td>45</td><td>48</td></tr>\n",
       "</tbody>\n",
       "</table>\n"
      ],
      "text/latex": [
       "A tibble: 1 × 12\n",
       "\\begin{tabular}{llllllllllll}\n",
       " r.squared & adj.r.squared & sigma & statistic & p.value & df & logLik & AIC & BIC & deviance & df.residual & nobs\\\\\n",
       " <dbl> & <dbl> & <dbl> & <dbl> & <dbl> & <dbl> & <dbl> & <dbl> & <dbl> & <dbl> & <int> & <int>\\\\\n",
       "\\hline\n",
       "\t 0.5716112 & 0.5525717 & 6325.667 & 30.02238 & 5.204241e-09 & 2 & -486.6739 & 981.3479 & 988.8327 & 1800633086 & 45 & 48\\\\\n",
       "\\end{tabular}\n"
      ],
      "text/markdown": [
       "\n",
       "A tibble: 1 × 12\n",
       "\n",
       "| r.squared &lt;dbl&gt; | adj.r.squared &lt;dbl&gt; | sigma &lt;dbl&gt; | statistic &lt;dbl&gt; | p.value &lt;dbl&gt; | df &lt;dbl&gt; | logLik &lt;dbl&gt; | AIC &lt;dbl&gt; | BIC &lt;dbl&gt; | deviance &lt;dbl&gt; | df.residual &lt;int&gt; | nobs &lt;int&gt; |\n",
       "|---|---|---|---|---|---|---|---|---|---|---|---|\n",
       "| 0.5716112 | 0.5525717 | 6325.667 | 30.02238 | 5.204241e-09 | 2 | -486.6739 | 981.3479 | 988.8327 | 1800633086 | 45 | 48 |\n",
       "\n"
      ],
      "text/plain": [
       "      r.squared adj.r.squared sigma    statistic p.value      df logLik   \n",
       "value 0.5716112 0.5525717     6325.667 30.02238  5.204241e-09 2  -486.6739\n",
       "      AIC      BIC      deviance   df.residual nobs\n",
       "value 981.3479 988.8327 1800633086 45          48  "
      ]
     },
     "metadata": {},
     "output_type": "display_data"
    }
   ],
   "source": [
    "glance(ps_mod)"
   ]
  },
  {
   "cell_type": "markdown",
   "id": "ba34c756-4110-41a5-889c-102a51920a41",
   "metadata": {},
   "source": [
    "❓Compare the adjusted proportion of variance accounted for in each model. Based on this comparison, which model do you prefer? Why? \n",
    "\n",
    "**Answer:**"
   ]
  },
  {
   "cell_type": "markdown",
   "id": "6d98ee08-e36c-4dc1-9f01-e2b4f520e645",
   "metadata": {},
   "source": [
    "The adjusted r-squared value (more representative of model quality), is a bit higher for the non-interactive model. Since it is both better and simpler, you should go with the parallel slopes model.\n",
    "\n"
   ]
  },
  {
   "cell_type": "markdown",
   "id": "3b8b4c84-898f-4914-b06b-2eeb99f0d234",
   "metadata": {},
   "source": [
    "❓Using your preferred model, based on your regression model parameters (and the data visualizations), is `income` greater in states that have lower or higher levels of `urbanization`? By how much?\n",
    "\n",
    "**Hint:** use the `tidy` function with your model as input to access the parameters in a nice table.\n",
    "\n",
    "**Answer:**"
   ]
  },
  {
   "cell_type": "code",
   "execution_count": 34,
   "id": "c094d0a2-2030-45a8-9643-9c6eac642fb3",
   "metadata": {},
   "outputs": [
    {
     "data": {
      "text/html": [
       "<table class=\"dataframe\">\n",
       "<caption>A tibble: 3 × 5</caption>\n",
       "<thead>\n",
       "\t<tr><th scope=col>term</th><th scope=col>estimate</th><th scope=col>std.error</th><th scope=col>statistic</th><th scope=col>p.value</th></tr>\n",
       "\t<tr><th scope=col>&lt;chr&gt;</th><th scope=col>&lt;dbl&gt;</th><th scope=col>&lt;dbl&gt;</th><th scope=col>&lt;dbl&gt;</th><th scope=col>&lt;dbl&gt;</th></tr>\n",
       "</thead>\n",
       "<tbody>\n",
       "\t<tr><td>(Intercept)     </td><td>-113725.193</td><td>23552.9187</td><td>-4.828497</td><td>1.624694e-05</td></tr>\n",
       "\t<tr><td>hs              </td><td>   1986.794</td><td>  272.9303</td><td> 7.279490</td><td>3.930730e-09</td></tr>\n",
       "\t<tr><td>urbanization_low</td><td>  -7333.326</td><td> 1857.6592</td><td>-3.947616</td><td>2.744526e-04</td></tr>\n",
       "</tbody>\n",
       "</table>\n"
      ],
      "text/latex": [
       "A tibble: 3 × 5\n",
       "\\begin{tabular}{lllll}\n",
       " term & estimate & std.error & statistic & p.value\\\\\n",
       " <chr> & <dbl> & <dbl> & <dbl> & <dbl>\\\\\n",
       "\\hline\n",
       "\t (Intercept)      & -113725.193 & 23552.9187 & -4.828497 & 1.624694e-05\\\\\n",
       "\t hs               &    1986.794 &   272.9303 &  7.279490 & 3.930730e-09\\\\\n",
       "\t urbanization\\_low &   -7333.326 &  1857.6592 & -3.947616 & 2.744526e-04\\\\\n",
       "\\end{tabular}\n"
      ],
      "text/markdown": [
       "\n",
       "A tibble: 3 × 5\n",
       "\n",
       "| term &lt;chr&gt; | estimate &lt;dbl&gt; | std.error &lt;dbl&gt; | statistic &lt;dbl&gt; | p.value &lt;dbl&gt; |\n",
       "|---|---|---|---|---|\n",
       "| (Intercept)      | -113725.193 | 23552.9187 | -4.828497 | 1.624694e-05 |\n",
       "| hs               |    1986.794 |   272.9303 |  7.279490 | 3.930730e-09 |\n",
       "| urbanization_low |   -7333.326 |  1857.6592 | -3.947616 | 2.744526e-04 |\n",
       "\n"
      ],
      "text/plain": [
       "  term             estimate    std.error  statistic p.value     \n",
       "1 (Intercept)      -113725.193 23552.9187 -4.828497 1.624694e-05\n",
       "2 hs                  1986.794   272.9303  7.279490 3.930730e-09\n",
       "3 urbanization_low   -7333.326  1857.6592 -3.947616 2.744526e-04"
      ]
     },
     "metadata": {},
     "output_type": "display_data"
    }
   ],
   "source": [
    "tidy(ps_mod)"
   ]
  },
  {
   "cell_type": "markdown",
   "id": "a746c3f6-ea00-4bd4-95a7-50ee4bc76f28",
   "metadata": {},
   "source": [
    "Low urbanization income will typically be around $7333.33 lower given all else is held equal."
   ]
  },
  {
   "cell_type": "markdown",
   "id": "bf4c7cba-28b1-41e4-800b-275d0895ceff",
   "metadata": {},
   "source": [
    "❓For every one percentage point increase of high-school educated adults in a state (`hs` variable), what is the associated average increase in `income`?\n",
    "\n",
    "**Answer:**"
   ]
  },
  {
   "cell_type": "markdown",
   "id": "80199d67-b809-4972-9d20-17add350dffe",
   "metadata": {},
   "source": [
    "Each percentage point increase is associated with an increrase in average income of around $1986.79.\n",
    "\n"
   ]
  }
 ],
 "metadata": {
  "kernelspec": {
   "display_name": "data730:R",
   "language": "R",
   "name": "conda-env-data730-r"
  },
  "language_info": {
   "codemirror_mode": "r",
   "file_extension": ".r",
   "mimetype": "text/x-r-source",
   "name": "R",
   "pygments_lexer": "r",
   "version": "4.3.3"
  }
 },
 "nbformat": 4,
 "nbformat_minor": 5
}
